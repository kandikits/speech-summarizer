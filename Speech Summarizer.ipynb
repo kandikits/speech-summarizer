{
 "cells": [
  {
   "cell_type": "markdown",
   "id": "add6fb91",
   "metadata": {},
   "source": [
    "### Speech Summarizer"
   ]
  },
  {
   "cell_type": "markdown",
   "id": "9263e2e8",
   "metadata": {},
   "source": [
    "Building Speech summarizer that transcribes and summarizes speech input is quite simple with transformer based pretrained models and open-source libraries"
   ]
  },
  {
   "cell_type": "markdown",
   "id": "c0c093fb",
   "metadata": {},
   "source": [
    "#### Transcribe speech into text"
   ]
  },
  {
   "cell_type": "markdown",
   "id": "42b8df16",
   "metadata": {},
   "source": [
    "Use deepspeech model to convert a speech file (e.g., speech.wav) into text file transcript.txt"
   ]
  },
  {
   "cell_type": "markdown",
   "id": "d16c1ccc",
   "metadata": {},
   "source": [
    "Speech file should meet below specifications\n",
    "1. <b>wav</b> file format\n",
    "2. sample rate of <b>16KHz</b>\n",
    "3. <b>mono</b> type audio channel"
   ]
  },
  {
   "cell_type": "markdown",
   "id": "1ec41ef6",
   "metadata": {},
   "source": [
    "#### Variables"
   ]
  },
  {
   "cell_type": "markdown",
   "id": "a9e32e0b",
   "metadata": {},
   "source": [
    "Variables for Transcription"
   ]
  },
  {
   "cell_type": "code",
   "execution_count": 1,
   "id": "745ce88e",
   "metadata": {},
   "outputs": [],
   "source": [
    "DEEPSPEECH_MODEL_FILE=r\"models/deepspeech-0.9.3-models.tflite\" #add model to be downloaded to this location\n",
    "INPUT_AUDIO_FILE=r\"input/speech.wav\"\n",
    "OUTPUT_TRANSCRIPT_FILE=r\"output/transcript.txt\""
   ]
  },
  {
   "cell_type": "markdown",
   "id": "d12f5a77",
   "metadata": {},
   "source": [
    "Variables for Summarisation"
   ]
  },
  {
   "cell_type": "code",
   "execution_count": 2,
   "id": "6ebfcd33",
   "metadata": {},
   "outputs": [],
   "source": [
    "PYTORCH_MODEL_URL=r\"https://cdn-lfs.huggingface.co/facebook/bart-large-cnn/2ac2745c02ac987d82c78a14b426de58d5e4178ae8039ba1c6881eccff3e82f1\"\n",
    "PYTORCH_MODEL_FILE=r\"models/bart-large-cnn/pytorch_model.bin\"\n",
    "PYTORCH_MODEL_DIR = r\"models\\bart-large-cnn\""
   ]
  },
  {
   "cell_type": "markdown",
   "id": "83447184",
   "metadata": {},
   "source": [
    "#### Download models"
   ]
  },
  {
   "cell_type": "markdown",
   "id": "577dbb75",
   "metadata": {},
   "source": [
    "###### Download models for transcription"
   ]
  },
  {
   "cell_type": "markdown",
   "id": "6cb07332",
   "metadata": {},
   "source": [
    "Click <a href=\"https://github.com/mozilla/DeepSpeech/releases/download/v0.9.3/deepspeech-0.9.3-models.tflite\">here</a> to download the model and move it to models directory in the downloaded repository if it <b>doesn't exist</b>"
   ]
  },
  {
   "cell_type": "markdown",
   "id": "cd43d4e4",
   "metadata": {},
   "source": [
    "###### Download models for summarisation"
   ]
  },
  {
   "cell_type": "code",
   "execution_count": 3,
   "id": "1bbe7fb9",
   "metadata": {},
   "outputs": [
    {
     "name": "stderr",
     "output_type": "stream",
     "text": [
      "  % Total    % Received % Xferd  Average Speed   Time    Time     Time  Current\n",
      "                                 Dload  Upload   Total   Spent    Left  Speed\n",
      "\n",
      "  0     0    0     0    0     0      0      0 --:--:-- --:--:-- --:--:--     0\n",
      "  0 1549M    0 5665k    0     0  7076k      0  0:03:44 --:--:--  0:03:44 7081k\n",
      "  0 1549M    0 14.3M    0     0  8178k      0  0:03:14  0:00:01  0:03:13 8177k\n",
      "  1 1549M    1 22.8M    0     0  8363k      0  0:03:09  0:00:02  0:03:07 8364k\n",
      "  1 1549M    1 26.5M    0     0  6057k      0  0:04:22  0:00:04  0:04:18 6058k\n",
      "  1 1549M    1 26.5M    0     0  5552k      0  0:04:45  0:00:04  0:04:41 5552k\n",
      "  1 1549M    1 30.0M    0     0  5152k      0  0:05:08  0:00:05  0:05:03 4854k\n",
      "  2 1549M    2 32.4M    0     0  4881k      0  0:05:25  0:00:06  0:05:19 3699k\n",
      "  2 1549M    2 39.2M    0     0  5150k      0  0:05:08  0:00:07  0:05:01 3351k\n",
      "  3 1549M    3 48.0M    0     0  5594k      0  0:04:43  0:00:08  0:04:35 5111k\n",
      "  3 1549M    3 56.6M    0     0  5921k      0  0:04:28  0:00:09  0:04:19 6288k\n",
      "  4 1549M    4 63.2M    0     0  5995k      0  0:04:24  0:00:10  0:04:14 7038k\n",
      "  4 1549M    4 70.3M    0     0  6106k      0  0:04:19  0:00:11  0:04:08 7779k\n",
      "  4 1549M    4 77.0M    0     0  6167k      0  0:04:17  0:00:12  0:04:05 7752k\n",
      "  5 1549M    5 81.6M    0     0  6058k      0  0:04:21  0:00:13  0:04:08 6875k\n",
      "  5 1549M    5 87.9M    0     0  6088k      0  0:04:20  0:00:14  0:04:06 6415k\n",
      "  6 1549M    6 94.9M    0     0  6153k      0  0:04:17  0:00:15  0:04:02 6493k\n",
      "  6 1549M    6  101M    0     0  6201k      0  0:04:15  0:00:16  0:03:59 6427k\n",
      "  7 1549M    7  108M    0     0  6258k      0  0:04:13  0:00:17  0:03:56 6490k\n",
      "  7 1549M    7  115M    0     0  6306k      0  0:04:11  0:00:18  0:03:53 6993k\n",
      "  7 1549M    7  122M    0     0  6345k      0  0:04:10  0:00:19  0:03:51 7107k\n",
      "  8 1549M    8  129M    0     0  6368k      0  0:04:09  0:00:20  0:03:49 7050k\n",
      "  8 1549M    8  136M    0     0  6410k      0  0:04:07  0:00:21  0:03:46 7111k\n",
      "  9 1549M    9  145M    0     0  6526k      0  0:04:03  0:00:22  0:03:41 7478k\n",
      "  9 1549M    9  153M    0     0  6612k      0  0:04:00  0:00:23  0:03:37 7762k\n",
      " 10 1549M   10  160M    0     0  6618k      0  0:03:59  0:00:24  0:03:35 7697k\n",
      " 10 1549M   10  169M    0     0  6711k      0  0:03:56  0:00:25  0:03:31 8138k\n",
      " 11 1549M   11  177M    0     0  6800k      0  0:03:53  0:00:26  0:03:27 8498k\n",
      " 12 1549M   12  186M    0     0  6861k      0  0:03:51  0:00:27  0:03:24 8392k\n",
      " 12 1549M   12  195M    0     0  6938k      0  0:03:48  0:00:28  0:03:20 8487k\n",
      " 13 1549M   13  202M    0     0  6970k      0  0:03:47  0:00:29  0:03:18 8716k\n",
      " 13 1549M   13  210M    0     0  6999k      0  0:03:46  0:00:30  0:03:16 8483k\n",
      " 14 1549M   14  219M    0     0  7060k      0  0:03:44  0:00:31  0:03:13 8457k\n",
      " 14 1549M   14  228M    0     0  7121k      0  0:03:42  0:00:32  0:03:10 8564k\n",
      " 15 1549M   15  235M    0     0  7148k      0  0:03:42  0:00:33  0:03:09 8360k\n",
      " 15 1549M   15  244M    0     0  7203k      0  0:03:40  0:00:34  0:03:06 8595k\n",
      " 16 1549M   16  253M    0     0  7254k      0  0:03:38  0:00:35  0:03:03 8824k\n",
      " 16 1549M   16  262M    0     0  7303k      0  0:03:37  0:00:36  0:03:01 8848k\n",
      " 17 1549M   17  270M    0     0  7334k      0  0:03:36  0:00:37  0:02:59 8734k\n",
      " 17 1549M   17  275M    0     0  7241k      0  0:03:39  0:00:38  0:03:01 7848k\n",
      " 18 1549M   18  279M    0     0  7179k      0  0:03:41  0:00:39  0:03:02 7011k\n",
      " 18 1549M   18  280M    0     0  7015k      0  0:03:46  0:00:40  0:03:06 5328k\n",
      " 18 1549M   18  285M    0     0  6992k      0  0:03:46  0:00:41  0:03:05 4706k\n",
      " 18 1549M   18  294M    0     0  7040k      0  0:03:45  0:00:42  0:03:03 4821k\n",
      " 19 1549M   19  303M    0     0  7086k      0  0:03:43  0:00:43  0:03:00 5828k\n",
      " 20 1549M   20  311M    0     0  7130k      0  0:03:42  0:00:44  0:02:58 6740k\n",
      " 20 1549M   20  319M    0     0  7154k      0  0:03:41  0:00:45  0:02:56 8306k\n",
      " 21 1549M   21  327M    0     0  7171k      0  0:03:41  0:00:46  0:02:55 8665k\n",
      " 21 1549M   21  334M    0     0  7174k      0  0:03:41  0:00:47  0:02:54 8318k\n",
      " 22 1549M   22  341M    0     0  7174k      0  0:03:41  0:00:48  0:02:53 7949k\n",
      " 22 1549M   22  348M    0     0  7175k      0  0:03:41  0:00:49  0:02:52 7579k\n",
      " 22 1549M   22  356M    0     0  7176k      0  0:03:41  0:00:50  0:02:51 7378k\n",
      " 23 1549M   23  362M    0     0  7169k      0  0:03:41  0:00:51  0:02:50 7151k\n",
      " 23 1549M   23  369M    0     0  7163k      0  0:03:41  0:00:52  0:02:49 7058k\n",
      " 24 1549M   24  375M    0     0  7142k      0  0:03:42  0:00:53  0:02:49 6823k\n",
      " 24 1549M   24  381M    0     0  7129k      0  0:03:42  0:00:54  0:02:48 6664k\n",
      " 24 1549M   24  385M    0     0  7072k      0  0:03:44  0:00:55  0:02:49 6013k\n",
      " 25 1549M   25  391M    0     0  7062k      0  0:03:44  0:00:56  0:02:48 5950k\n",
      " 25 1549M   25  397M    0     0  7048k      0  0:03:45  0:00:57  0:02:48 5831k\n",
      " 26 1549M   26  404M    0     0  7038k      0  0:03:45  0:00:58  0:02:47 5924k\n",
      " 26 1549M   26  410M    0     0  7029k      0  0:03:45  0:00:59  0:02:46 5939k\n",
      " 26 1549M   26  417M    0     0  7024k      0  0:03:45  0:01:00  0:02:45 6492k\n",
      " 27 1549M   27  423M    0     0  7019k      0  0:03:46  0:01:01  0:02:45 6536k\n",
      " 27 1549M   27  431M    0     0  7036k      0  0:03:45  0:01:02  0:02:43 6906k\n",
      " 28 1549M   28  439M    0     0  7059k      0  0:03:44  0:01:03  0:02:41 7299k\n",
      " 28 1549M   28  446M    0     0  7062k      0  0:03:44  0:01:04  0:02:40 7459k\n",
      " 29 1549M   29  453M    0     0  7053k      0  0:03:45  0:01:05  0:02:40 7399k\n",
      " 29 1549M   29  459M    0     0  7038k      0  0:03:45  0:01:06  0:02:39 7269k\n",
      " 30 1549M   30  465M    0     0  7037k      0  0:03:45  0:01:07  0:02:38 7039k\n",
      " 30 1549M   30  472M    0     0  7036k      0  0:03:45  0:01:08  0:02:37 6744k\n",
      " 30 1549M   30  479M    0     0  7037k      0  0:03:45  0:01:09  0:02:36 6704k\n",
      " 31 1549M   31  486M    0     0  7036k      0  0:03:45  0:01:10  0:02:35 6814k\n",
      " 31 1549M   31  493M    0     0  7041k      0  0:03:45  0:01:11  0:02:34 7077k\n",
      " 32 1549M   32  499M    0     0  7019k      0  0:03:46  0:01:12  0:02:34 6789k\n",
      " 32 1549M   32  503M    0     0  6970k      0  0:03:47  0:01:13  0:02:34 6084k\n",
      " 32 1549M   32  503M    0     0  6881k      0  0:03:50  0:01:14  0:02:36 4780k\n",
      " 32 1549M   32  508M    0     0  6867k      0  0:03:51  0:01:15  0:02:36 4481k\n",
      " 33 1549M   33  517M    0     0  6896k      0  0:03:50  0:01:16  0:02:34 4815k\n",
      " 33 1549M   33  524M    0     0  6907k      0  0:03:49  0:01:17  0:02:32 5254k\n",
      " 34 1549M   34  533M    0     0  6934k      0  0:03:48  0:01:18  0:02:30 6383k\n",
      " 34 1549M   34  542M    0     0  6960k      0  0:03:48  0:01:19  0:02:29 8196k\n",
      " 35 1549M   35  551M    0     0  6986k      0  0:03:47  0:01:20  0:02:27 8787k\n",
      " 36 1549M   36  559M    0     0  7000k      0  0:03:46  0:01:21  0:02:25 8609k\n",
      " 36 1549M   36  567M    0     0  7022k      0  0:03:46  0:01:22  0:02:24 8825k\n",
      " 37 1549M   37  576M    0     0  7047k      0  0:03:45  0:01:23  0:02:22 8828k\n",
      " 37 1549M   37  585M    0     0  7071k      0  0:03:44  0:01:24  0:02:20 8836k\n",
      " 38 1549M   38  593M    0     0  7083k      0  0:03:44  0:01:25  0:02:19 8653k\n",
      " 38 1549M   38  602M    0     0  7106k      0  0:03:43  0:01:26  0:02:17 8835k\n",
      " 39 1549M   39  611M    0     0  7128k      0  0:03:42  0:01:27  0:02:15 8880k\n",
      " 40 1549M   40  620M    0     0  7150k      0  0:03:41  0:01:28  0:02:13 8876k\n",
      " 40 1549M   40  628M    0     0  7167k      0  0:03:41  0:01:29  0:02:12 8808k\n",
      " 41 1549M   41  637M    0     0  7188k      0  0:03:40  0:01:30  0:02:10 8988k\n",
      " 41 1549M   41  646M    0     0  7205k      0  0:03:40  0:01:31  0:02:09 8930k\n",
      " 42 1549M   42  654M    0     0  7225k      0  0:03:39  0:01:32  0:02:07 8931k\n",
      " 42 1549M   42  663M    0     0  7238k      0  0:03:39  0:01:33  0:02:06 8810k\n",
      " 43 1549M   43  671M    0     0  7257k      0  0:03:38  0:01:34  0:02:04 8877k\n",
      " 43 1549M   43  680M    0     0  7276k      0  0:03:38  0:01:35  0:02:03 8875k\n",
      " 44 1549M   44  689M    0     0  7295k      0  0:03:37  0:01:36  0:02:01 8931k\n",
      " 44 1549M   44  697M    0     0  7302k      0  0:03:37  0:01:37  0:02:00 8721k\n",
      " 45 1549M   45  706M    0     0  7319k      0  0:03:36  0:01:38  0:01:58 8844k\n",
      " 46 1549M   46  715M    0     0  7337k      0  0:03:36  0:01:39  0:01:57 8839k\n",
      " 46 1549M   46  723M    0     0  7354k      0  0:03:35  0:01:40  0:01:55 8841k\n",
      " 47 1549M   47  732M    0     0  7364k      0  0:03:35  0:01:41  0:01:54 8716k\n",
      " 47 1549M   47  740M    0     0  7381k      0  0:03:35  0:01:42  0:01:53 8925k\n",
      " 48 1549M   48  749M    0     0  7397k      0  0:03:34  0:01:43  0:01:51 8926k\n",
      " 48 1549M   48  756M    0     0  7393k      0  0:03:34  0:01:44  0:01:50 8522k\n",
      " 49 1549M   49  764M    0     0  7400k      0  0:03:34  0:01:45  0:01:49 8341k\n",
      " 49 1549M   49  770M    0     0  7390k      0  0:03:34  0:01:46  0:01:48 7919k\n",
      " 49 1549M   49  770M    0     0  7314k      0  0:03:36  0:01:47  0:01:49 5976k\n",
      " 49 1549M   49  770M    0     0  7220k      0  0:03:39  0:01:49  0:01:50 3900k\n",
      " 49 1549M   49  770M    0     0  7173k      0  0:03:41  0:01:50  0:01:51 2780k\n",
      " 49 1549M   49  773M    0     0  7147k      0  0:03:42  0:01:50  0:01:52 1785k\n",
      " 50 1549M   50  781M    0     0  7158k      0  0:03:41  0:01:51  0:01:50 2198k\n",
      " 50 1549M   50  790M    0     0  7172k      0  0:03:41  0:01:52  0:01:49 4027k\n",
      " 51 1549M   51  798M    0     0  7185k      0  0:03:40  0:01:53  0:01:47 6342k\n",
      " 52 1549M   52  807M    0     0  7199k      0  0:03:40  0:01:54  0:01:46 7781k\n",
      " 52 1549M   52  815M    0     0  7212k      0  0:03:40  0:01:55  0:01:45 8651k\n",
      " 53 1549M   53  824M    0     0  7224k      0  0:03:39  0:01:56  0:01:43 8697k\n",
      " 53 1549M   53  832M    0     0  7235k      0  0:03:39  0:01:57  0:01:42 8652k\n",
      " 54 1549M   54  840M    0     0  7243k      0  0:03:39  0:01:58  0:01:41 8560k\n",
      " 54 1549M   54  848M    0     0  7255k      0  0:03:38  0:01:59  0:01:39 8549k\n",
      " 55 1549M   55  857M    0     0  7268k      0  0:03:38  0:02:00  0:01:38 8570k\n",
      " 55 1549M   55  864M    0     0  7267k      0  0:03:38  0:02:01  0:01:37 8278k\n",
      " 56 1549M   56  873M    0     0  7280k      0  0:03:38  0:02:02  0:01:36 8339k\n",
      " 56 1549M   56  881M    0     0  7292k      0  0:03:37  0:02:03  0:01:34 8458k\n",
      " 57 1549M   57  890M    0     0  7306k      0  0:03:37  0:02:04  0:01:33 8538k\n",
      " 58 1549M   58  899M    0     0  7320k      0  0:03:36  0:02:05  0:01:31 8583k\n",
      " 58 1549M   58  907M    0     0  7330k      0  0:03:36  0:02:06  0:01:30 8856k\n",
      " 59 1549M   59  914M    0     0  7330k      0  0:03:36  0:02:07  0:01:29 8571k\n",
      " 59 1549M   59  923M    0     0  7338k      0  0:03:36  0:02:08  0:01:28 8462k\n",
      " 60 1549M   60  931M    0     0  7349k      0  0:03:35  0:02:09  0:01:26 8409k\n",
      " 60 1549M   60  940M    0     0  7361k      0  0:03:35  0:02:10  0:01:25 8380k\n",
      " 61 1549M   61  949M    0     0  7374k      0  0:03:35  0:02:11  0:01:24 8478k\n",
      " 61 1549M   61  957M    0     0  7386k      0  0:03:34  0:02:12  0:01:22 8813k\n",
      " 62 1549M   62  966M    0     0  7396k      0  0:03:34  0:02:13  0:01:21 8882k\n",
      " 62 1549M   62  975M    0     0  7408k      0  0:03:34  0:02:14  0:01:20 8937k\n",
      " 63 1549M   63  981M    0     0  7400k      0  0:03:34  0:02:15  0:01:19 8419k\n",
      " 63 1549M   63  989M    0     0  7406k      0  0:03:34  0:02:16  0:01:18 8262k\n",
      " 64 1549M   64  998M    0     0  7418k      0  0:03:33  0:02:17  0:01:16 8267k\n",
      " 64 1549M   64 1007M    0     0  7430k      0  0:03:33  0:02:18  0:01:15 8349k\n",
      " 65 1549M   65 1015M    0     0  7441k      0  0:03:33  0:02:19  0:01:14 8348k\n",
      " 66 1549M   66 1023M    0     0  7439k      0  0:03:33  0:02:20  0:01:13 8502k\n",
      " 66 1549M   66 1027M    0     0  7417k      0  0:03:33  0:02:21  0:01:12 7705k\n",
      " 66 1549M   66 1030M    0     0  7385k      0  0:03:34  0:02:22  0:01:12 6479k\n",
      " 66 1549M   66 1035M    0     0  7371k      0  0:03:35  0:02:23  0:01:12 5745k\n",
      " 67 1549M   67 1044M    0     0  7383k      0  0:03:34  0:02:24  0:01:10 5750k\n",
      " 67 1549M   67 1051M    0     0  7382k      0  0:03:34  0:02:25  0:01:09 5747k\n",
      " 68 1549M   68 1059M    0     0  7393k      0  0:03:34  0:02:26  0:01:08 6728k\n",
      " 68 1549M   68 1068M    0     0  7404k      0  0:03:34  0:02:27  0:01:07 7984k\n",
      " 69 1549M   69 1077M    0     0  7416k      0  0:03:34  0:02:28  0:01:06 8688k\n",
      " 69 1549M   69 1083M    0     0  7408k      0  0:03:34  0:02:29  0:01:05 8137k\n",
      " 70 1549M   70 1088M    0     0  7390k      0  0:03:34  0:02:30  0:01:04 7624k\n",
      " 70 1549M   70 1092M    0     0  7367k      0  0:03:35  0:02:31  0:01:04 6610k\n",
      " 71 1549M   71 1101M    0     0  7378k      0  0:03:35  0:02:32  0:01:03 6609k\n",
      " 71 1549M   71 1109M    0     0  7389k      0  0:03:34  0:02:33  0:01:01 6611k\n",
      " 72 1549M   72 1118M    0     0  7399k      0  0:03:34  0:02:34  0:01:00 7118k\n",
      " 72 1549M   72 1127M    0     0  7409k      0  0:03:34  0:02:35  0:00:59 7999k\n",
      " 73 1549M   73 1136M    0     0  7420k      0  0:03:33  0:02:36  0:00:57 9009k\n",
      " 73 1549M   73 1145M    0     0  7430k      0  0:03:33  0:02:37  0:00:56 9012k\n",
      " 74 1549M   74 1153M    0     0  7440k      0  0:03:33  0:02:38  0:00:55 8998k\n",
      " 75 1549M   75 1162M    0     0  7450k      0  0:03:33  0:02:39  0:00:54 9035k\n",
      " 75 1549M   75 1171M    0     0  7460k      0  0:03:32  0:02:40  0:00:52 9034k\n",
      " 76 1549M   76 1179M    0     0  7464k      0  0:03:32  0:02:41  0:00:51 8835k\n",
      " 76 1549M   76 1186M    0     0  7461k      0  0:03:32  0:02:42  0:00:50 8443k\n",
      " 77 1549M   77 1195M    0     0  7471k      0  0:03:32  0:02:43  0:00:49 8458k\n",
      " 77 1549M   77 1204M    0     0  7481k      0  0:03:32  0:02:44  0:00:48 8464k\n",
      " 78 1549M   78 1212M    0     0  7490k      0  0:03:31  0:02:45  0:00:46 8461k\n",
      " 78 1549M   78 1221M    0     0  7498k      0  0:03:31  0:02:46  0:00:45 8604k\n",
      " 79 1549M   79 1229M    0     0  7505k      0  0:03:31  0:02:47  0:00:44 8920k\n",
      " 79 1549M   79 1235M    0     0  7495k      0  0:03:31  0:02:48  0:00:43 8280k\n",
      " 79 1549M   79 1238M    0     0  7469k      0  0:03:32  0:02:49  0:00:43 7084k\n",
      " 80 1549M   80 1244M    0     0  7459k      0  0:03:32  0:02:50  0:00:42 6422k\n",
      " 80 1549M   80 1251M    0     0  7459k      0  0:03:32  0:02:51  0:00:41 6155k\n",
      " 81 1549M   81 1258M    0     0  7460k      0  0:03:32  0:02:52  0:00:40 5942k\n",
      " 81 1549M   81 1265M    0     0  7456k      0  0:03:32  0:02:53  0:00:39 6115k\n",
      " 81 1549M   81 1269M    0     0  7438k      0  0:03:33  0:02:54  0:00:39 6389k\n",
      " 82 1549M   82 1272M    0     0  7408k      0  0:03:34  0:02:55  0:00:39 5697k\n",
      " 82 1549M   82 1276M    0     0  7393k      0  0:03:34  0:02:56  0:00:38 5145k\n",
      " 82 1549M   82 1284M    0     0  7397k      0  0:03:34  0:02:57  0:00:37 5227k\n",
      " 83 1549M   83 1292M    0     0  7403k      0  0:03:34  0:02:58  0:00:36 5574k\n",
      " 83 1549M   83 1300M    0     0  7409k      0  0:03:34  0:02:59  0:00:35 6375k\n",
      " 84 1549M   84 1309M    0     0  7415k      0  0:03:34  0:03:00  0:00:34 7654k\n",
      " 85 1549M   85 1318M    0     0  7424k      0  0:03:33  0:03:01  0:00:32 8510k\n",
      " 85 1549M   85 1324M    0     0  7417k      0  0:03:33  0:03:02  0:00:31 8152k\n",
      " 85 1549M   85 1332M    0     0  7425k      0  0:03:33  0:03:03  0:00:30 8195k\n",
      " 86 1549M   86 1341M    0     0  7433k      0  0:03:33  0:03:04  0:00:29 8329k\n",
      " 87 1549M   87 1350M    0     0  7442k      0  0:03:33  0:03:05  0:00:28 8432k\n",
      " 87 1549M   87 1359M    0     0  7451k      0  0:03:33  0:03:06  0:00:27 8428k\n",
      " 88 1549M   88 1368M    0     0  7460k      0  0:03:32  0:03:07  0:00:25 8995k\n",
      " 88 1549M   88 1376M    0     0  7467k      0  0:03:32  0:03:08  0:00:24 9030k\n",
      " 89 1549M   89 1384M    0     0  7467k      0  0:03:32  0:03:09  0:00:23 8714k\n",
      " 89 1549M   89 1392M    0     0  7475k      0  0:03:32  0:03:10  0:00:22 8692k\n",
      " 90 1549M   90 1401M    0     0  7483k      0  0:03:32  0:03:11  0:00:21 8687k\n",
      " 90 1549M   90 1410M    0     0  7491k      0  0:03:31  0:03:12  0:00:19 8666k\n",
      " 91 1549M   91 1419M    0     0  7499k      0  0:03:31  0:03:13  0:00:18 8716k\n",
      " 92 1549M   92 1428M    0     0  7507k      0  0:03:31  0:03:14  0:00:17 9027k\n",
      " 92 1549M   92 1437M    0     0  7515k      0  0:03:31  0:03:15  0:00:16 9041k\n",
      " 93 1549M   93 1445M    0     0  7523k      0  0:03:30  0:03:16  0:00:14 9047k\n",
      " 93 1549M   93 1454M    0     0  7531k      0  0:03:30  0:03:17  0:00:13 9070k\n",
      " 94 1549M   94 1463M    0     0  7538k      0  0:03:30  0:03:18  0:00:12 9056k\n",
      " 94 1549M   94 1472M    0     0  7546k      0  0:03:30  0:03:19  0:00:11 9052k\n",
      " 95 1549M   95 1478M    0     0  7539k      0  0:03:30  0:03:20  0:00:10 8486k\n",
      " 95 1549M   95 1487M    0     0  7547k      0  0:03:30  0:03:21  0:00:09 8485k\n",
      " 96 1549M   96 1496M    0     0  7554k      0  0:03:30  0:03:22  0:00:08 8473k\n",
      " 97 1549M   97 1504M    0     0  7558k      0  0:03:29  0:03:23  0:00:06 8355k\n",
      " 97 1549M   97 1512M    0     0  7561k      0  0:03:29  0:03:24  0:00:05 8178k\n",
      " 98 1549M   98 1520M    0     0  7565k      0  0:03:29  0:03:25  0:00:04 8594k\n",
      " 98 1549M   98 1529M    0     0  7568k      0  0:03:29  0:03:26  0:00:03 8409k\n",
      " 98 1549M   98 1532M    0     0  7551k      0  0:03:30  0:03:27  0:00:03 7427k\n",
      " 99 1549M   99 1535M    0     0  7531k      0  0:03:30  0:03:28  0:00:02 6405k\n",
      " 99 1549M   99 1539M    0     0  7511k      0  0:03:31  0:03:29  0:00:02 5473k\n",
      " 99 1549M   99 1547M    0     0  7516k      0  0:03:31  0:03:30  0:00:01 5524k\n",
      "100 1549M  100 1549M    0     0  7515k      0  0:03:31  0:03:31 --:--:-- 4945k\n"
     ]
    }
   ],
   "source": [
    "!curl -o {PYTORCH_MODEL_FILE} {PYTORCH_MODEL_URL}"
   ]
  },
  {
   "cell_type": "code",
   "execution_count": 4,
   "id": "42bc1b4b",
   "metadata": {},
   "outputs": [
    {
     "name": "stderr",
     "output_type": "stream",
     "text": [
      "Loading model from file models/deepspeech-0.9.3-models.tflite\n",
      "TensorFlow: v2.3.0-6-g23ad988fcd\n",
      "DeepSpeech: v0.9.3-0-gf2e9c858\n",
      "Loaded model in 0.0461s.\n",
      "Running inference.\n",
      "Inference took 49.304s for 67.892s audio file.\n"
     ]
    }
   ],
   "source": [
    "!deepspeech --model {DEEPSPEECH_MODEL_FILE} --audio {INPUT_AUDIO_FILE} > {OUTPUT_TRANSCRIPT_FILE}"
   ]
  },
  {
   "cell_type": "markdown",
   "id": "b1ffcfdd",
   "metadata": {},
   "source": [
    "#### Load generated transcript into memory"
   ]
  },
  {
   "cell_type": "code",
   "execution_count": 5,
   "id": "47070559",
   "metadata": {},
   "outputs": [],
   "source": [
    "transcribed_text = str()\n",
    "with open(OUTPUT_TRANSCRIPT_FILE) as file:\n",
    "    transcribed_text = file.read().strip()"
   ]
  },
  {
   "cell_type": "code",
   "execution_count": 6,
   "id": "a3baa315",
   "metadata": {},
   "outputs": [
    {
     "data": {
      "text/plain": [
       "\"there are certain things that a necessary to ensure that the future is good and some of those things are in the long term having long term sustainable transportand sustainable energy generation and to be a space exploring civilization and for humanity to be out their among the stars and be a multi planetry species i think the being a multi planetory species and being out there among the stars is important for the long terme survival of humanity and that's one reason kind of like life insurance for life collectively life as we know it but then the part that i find personally most motivating is that it creates a sense of adventure and it makes people excited about the future if you con sider two futures one way we are forever confine to earth until eventually something terrible happens ot another future where we are out there on many planets may be even going beyond the solar system i think that second version is incredibly exciting and inspiring at there need to be reasons to get up in the morning you know life can't just be about solving problems otherwise what's the point be'e got to be things that people find in spiring and make life worth living\""
      ]
     },
     "execution_count": 6,
     "metadata": {},
     "output_type": "execute_result"
    }
   ],
   "source": [
    "transcribed_text"
   ]
  },
  {
   "cell_type": "markdown",
   "id": "a897cc49",
   "metadata": {},
   "source": [
    "#### Summarize transcribed speech"
   ]
  },
  {
   "cell_type": "markdown",
   "id": "7c7c4b5c",
   "metadata": {},
   "source": [
    "##### Import libraries"
   ]
  },
  {
   "cell_type": "code",
   "execution_count": 7,
   "id": "625322f7",
   "metadata": {},
   "outputs": [],
   "source": [
    "from transformers import AutoTokenizer, AutoModelForSeq2SeqLM"
   ]
  },
  {
   "cell_type": "markdown",
   "id": "eb005b04",
   "metadata": {},
   "source": [
    "##### Load models"
   ]
  },
  {
   "cell_type": "code",
   "execution_count": 8,
   "id": "4d5df9e6",
   "metadata": {},
   "outputs": [],
   "source": [
    "tokenizer = AutoTokenizer.from_pretrained(PYTORCH_MODEL_DIR)\n",
    "model = AutoModelForSeq2SeqLM.from_pretrained(PYTORCH_MODEL_DIR)"
   ]
  },
  {
   "cell_type": "markdown",
   "id": "6ce7e6b7",
   "metadata": {},
   "source": [
    "##### Summarize"
   ]
  },
  {
   "cell_type": "code",
   "execution_count": 9,
   "id": "4daba73e",
   "metadata": {},
   "outputs": [
    {
     "name": "stdout",
     "output_type": "stream",
     "text": [
      "Being a multi planetry species is important for the long terme survival of humanity. It creates a sense of adventure and it makes people excited about the future. There need to be reasons to get up in the morning you know life can't just be about solving problems otherwise what's the point.\n"
     ]
    }
   ],
   "source": [
    "input_ids = tokenizer(f\"summarize: {transcribed_text}\", return_tensors='pt').input_ids\n",
    "outputs = model.generate(input_ids)\n",
    "print(tokenizer.decode(outputs[0], skip_special_tokens=True))"
   ]
  },
  {
   "cell_type": "code",
   "execution_count": null,
   "id": "d7e57b54",
   "metadata": {},
   "outputs": [],
   "source": []
  }
 ],
 "metadata": {
  "kernelspec": {
   "display_name": "Python 3 (ipykernel)",
   "language": "python",
   "name": "python3"
  },
  "language_info": {
   "codemirror_mode": {
    "name": "ipython",
    "version": 3
   },
   "file_extension": ".py",
   "mimetype": "text/x-python",
   "name": "python",
   "nbconvert_exporter": "python",
   "pygments_lexer": "ipython3",
   "version": "3.9.6"
  }
 },
 "nbformat": 4,
 "nbformat_minor": 5
}

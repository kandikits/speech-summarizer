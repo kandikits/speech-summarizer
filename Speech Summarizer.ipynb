{
 "cells": [
  {
   "cell_type": "markdown",
   "id": "add6fb91",
   "metadata": {},
   "source": [
    "### Speech Summarizer"
   ]
  },
  {
   "cell_type": "markdown",
   "id": "9263e2e8",
   "metadata": {},
   "source": [
    "Building Speech summarizer that transcribes and summarizes speech input is quite simple with transformer based pretrained models and open-source libraries"
   ]
  },
  {
   "cell_type": "markdown",
   "id": "d16c1ccc",
   "metadata": {},
   "source": [
    "Speech file <b>must</b> meet below specifications\n",
    "1. <b>wav</b> file format\n",
    "2. sample rate of <b>16KHz</b>\n",
    "3. <b>mono</b> type audio channel"
   ]
  },
  {
   "cell_type": "markdown",
   "id": "71e0eb89",
   "metadata": {},
   "source": [
    "<b>Note:</b> Update variables under <b>Variables</b> section to configure inputs if required before running the notebook. \n",
    "\n",
    "The variable <b>INPUT_AUDIO_FILE</b> takes input audio file to be summarised.\n",
    "\n",
    "The last cell <b>outputs</b> the summarisation of input audio file into <b>OUTPUT_SUMMARISED_FILE</b>\n",
    "\n",
    "To run notebook cell by cell, click on a cell and click <b>Run</b> button below the <b>Menu</b> bar. Or to run all cells, select <b>Cell --> Run All from Menu bar.</b>"
   ]
  },
  {
   "cell_type": "markdown",
   "id": "1ec41ef6",
   "metadata": {},
   "source": [
    "#### Variables"
   ]
  },
  {
   "cell_type": "code",
   "execution_count": 1,
   "id": "d4b2c7b6",
   "metadata": {},
   "outputs": [],
   "source": [
    "INPUT_AUDIO_FILE=r\"input/speech.wav\""
   ]
  },
  {
   "cell_type": "markdown",
   "id": "a9e32e0b",
   "metadata": {},
   "source": [
    "Default variables for Transcription"
   ]
  },
  {
   "cell_type": "code",
   "execution_count": 2,
   "id": "745ce88e",
   "metadata": {},
   "outputs": [],
   "source": [
    "DEEPSPEECH_MODEL_FILE=r\"models/deepspeech-0.9.3-models.tflite\" #add model to be downloaded to this location\n",
    "OUTPUT_TRANSCRIPT_FILE=r\"output/transcript.txt\""
   ]
  },
  {
   "cell_type": "markdown",
   "id": "d12f5a77",
   "metadata": {},
   "source": [
    "Default variables for Summarisation"
   ]
  },
  {
   "cell_type": "code",
   "execution_count": 3,
   "id": "6ebfcd33",
   "metadata": {},
   "outputs": [],
   "source": [
    "PYTORCH_MODEL_URL=r\"https://cdn-lfs.huggingface.co/facebook/bart-large-cnn/2ac2745c02ac987d82c78a14b426de58d5e4178ae8039ba1c6881eccff3e82f1\"\n",
    "PYTORCH_MODEL_FILE=r\"models/bart-large-cnn/pytorch_model.bin\"\n",
    "PYTORCH_MODEL_DIR = r\"models\\bart-large-cnn\"\n",
    "OUTPUT_SUMMARISED_FILE=r\"output/summarised_text.txt\""
   ]
  },
  {
   "cell_type": "markdown",
   "id": "83447184",
   "metadata": {},
   "source": [
    "#### Download models"
   ]
  },
  {
   "cell_type": "markdown",
   "id": "cd43d4e4",
   "metadata": {},
   "source": [
    "###### Download models for summarisation"
   ]
  },
  {
   "cell_type": "code",
   "execution_count": 4,
   "id": "1bbe7fb9",
   "metadata": {
    "scrolled": true
   },
   "outputs": [
    {
     "name": "stderr",
     "output_type": "stream",
     "text": [
      "  % Total    % Received % Xferd  Average Speed   Time    Time     Time  Current\n",
      "                                 Dload  Upload   Total   Spent    Left  Speed\n",
      "\n",
      "  0     0    0     0    0     0      0      0 --:--:-- --:--:-- --:--:--     0\n",
      "  0     0    0     0    0     0      0      0 --:--:-- --:--:-- --:--:--     0\n",
      "  0     0    0     0    0     0      0      0 --:--:--  0:00:01 --:--:--     0\n",
      "  0     0    0     0    0     0      0      0 --:--:--  0:00:02 --:--:--     0\n",
      "  0     0    0     0    0     0      0      0 --:--:--  0:00:03 --:--:--     0\n",
      "  0 1549M    0 4035k    0     0   857k      0  0:30:51  0:00:04  0:30:47  857k\n",
      "  0 1549M    0 12.7M    0     0  2296k      0  0:11:31  0:00:05  0:11:26 2683k\n",
      "  1 1549M    1 18.9M    0     0  2886k      0  0:09:09  0:00:06  0:09:03 3991k\n",
      "  1 1549M    1 22.1M    0     0  2868k      0  0:09:13  0:00:07  0:09:06 4509k\n",
      "  1 1549M    1 24.6M    0     0  2866k      0  0:09:13  0:00:08  0:09:05 4966k\n",
      "  1 1549M    1 27.4M    0     0  2893k      0  0:09:08  0:00:09  0:08:59 4810k\n",
      "  2 1549M    2 34.9M    0     0  3341k      0  0:07:54  0:00:10  0:07:44 4534k\n",
      "  2 1549M    2 43.8M    0     0  3831k      0  0:06:54  0:00:11  0:06:43 5099k\n",
      "  3 1549M    3 52.6M    0     0  4241k      0  0:06:14  0:00:12  0:06:02 6498k\n",
      "  3 1549M    3 61.5M    0     0  4595k      0  0:05:45  0:00:13  0:05:32 7705k\n",
      "  4 1549M    4 70.3M    0     0  4898k      0  0:05:24  0:00:14  0:05:10 8793k\n",
      "  5 1549M    5 77.7M    0     0  5069k      0  0:05:13  0:00:15  0:04:58 8768k\n",
      "  5 1549M    5 86.3M    0     0  5294k      0  0:04:59  0:00:16  0:04:43 8719k\n",
      "  6 1549M    6 95.2M    0     0  5509k      0  0:04:48  0:00:17  0:04:31 8729k\n",
      "  6 1549M    6  104M    0     0  5699k      0  0:04:38  0:00:18  0:04:20 8725k\n",
      "  7 1549M    7  112M    0     0  5869k      0  0:04:30  0:00:19  0:04:11 8723k\n",
      "  7 1549M    7  121M    0     0  6023k      0  0:04:23  0:00:20  0:04:03 9020k\n",
      "  8 1549M    8  130M    0     0  6163k      0  0:04:17  0:00:21  0:03:56 9067k\n",
      "  8 1549M    8  139M    0     0  6288k      0  0:04:12  0:00:22  0:03:50 9050k\n",
      "  9 1549M    9  148M    0     0  6405k      0  0:04:07  0:00:23  0:03:44 9049k\n",
      " 10 1549M   10  157M    0     0  6512k      0  0:04:03  0:00:24  0:03:39 9048k\n",
      " 10 1549M   10  165M    0     0  6610k      0  0:04:00  0:00:25  0:03:35 9041k\n",
      " 11 1549M   11  174M    0     0  6704k      0  0:03:56  0:00:26  0:03:30 9053k\n",
      " 11 1549M   11  183M    0     0  6788k      0  0:03:53  0:00:27  0:03:26 9055k\n",
      " 12 1549M   12  192M    0     0  6867k      0  0:03:51  0:00:28  0:03:23 9060k\n",
      " 12 1549M   12  201M    0     0  6941k      0  0:03:48  0:00:29  0:03:19 9060k\n",
      " 13 1549M   13  210M    0     0  7010k      0  0:03:46  0:00:30  0:03:16 9068k\n",
      " 14 1549M   14  219M    0     0  7075k      0  0:03:44  0:00:31  0:03:13 9058k\n",
      " 14 1549M   14  227M    0     0  7136k      0  0:03:42  0:00:32  0:03:10 9065k\n",
      " 15 1549M   15  236M    0     0  7193k      0  0:03:40  0:00:33  0:03:07 9065k\n",
      " 15 1549M   15  245M    0     0  7247k      0  0:03:39  0:00:34  0:03:05 9064k\n",
      " 16 1549M   16  254M    0     0  7298k      0  0:03:37  0:00:35  0:03:02 9068k\n",
      " 16 1549M   16  263M    0     0  7346k      0  0:03:36  0:00:36  0:03:00 9064k\n",
      " 17 1549M   17  269M    0     0  7329k      0  0:03:36  0:00:37  0:02:59 8595k\n",
      " 17 1549M   17  278M    0     0  7374k      0  0:03:35  0:00:38  0:02:57 8595k\n",
      " 18 1549M   18  287M    0     0  7416k      0  0:03:34  0:00:39  0:02:55 8593k\n",
      " 18 1549M   18  292M    0     0  7344k      0  0:03:36  0:00:40  0:02:56 7671k\n",
      " 19 1549M   19  295M    0     0  7231k      0  0:03:39  0:00:41  0:02:58 6417k"
     ]
    }
   ],
   "source": [
    "!curl -o {PYTORCH_MODEL_FILE} {PYTORCH_MODEL_URL}"
   ]
  },
  {
   "cell_type": "markdown",
   "id": "c0c093fb",
   "metadata": {},
   "source": [
    "#### Transcribe speech into text"
   ]
  },
  {
   "cell_type": "markdown",
   "id": "42b8df16",
   "metadata": {},
   "source": [
    "Use deepspeech model to convert a speech file (e.g., speech.wav) into text file transcript.txt"
   ]
  },
  {
   "cell_type": "code",
   "execution_count": 5,
   "id": "42bc1b4b",
   "metadata": {},
   "outputs": [
    {
     "name": "stderr",
     "output_type": "stream",
     "text": [
      "\n",
      " 19 1549M   19  298M    0     0  7137k      0  0:03:42  0:00:42  0:03:00 5711k\n",
      " 19 1549M   19  301M    0     0  7056k      0  0:03:44  0:00:43  0:03:01 4594k\n",
      " 19 1549M   19  308M    0     0  7070k      0  0:03:44  0:00:44  0:03:00 4317k\n",
      " 20 1549M   20  317M    0     0  7110k      0  0:03:43  0:00:45  0:02:58 5184k\n",
      " 21 1549M   21  326M    0     0  7150k      0  0:03:41  0:00:46  0:02:55 6443k\n",
      " 21 1549M   21  333M    0     0  7152k      0  0:03:41  0:00:47  0:02:54 7284k\n",
      " 22 1549M   22  341M    0     0  7188k      0  0:03:40  0:00:48  0:02:52 8346k\n",
      " 22 1549M   22  350M    0     0  7226k      0  0:03:39  0:00:49  0:02:50 8625k\n",
      " 23 1549M   23  359M    0     0  7262k      0  0:03:38  0:00:50  0:02:48 8651k\n",
      " 23 1549M   23  368M    0     0  7297k      0  0:03:37  0:00:51  0:02:46 8671k\n",
      " 24 1549M   24  377M    0     0  7329k      0  0:03:36  0:00:52  0:02:44 9034k\n",
      " 24 1549M   24  386M    0     0  7361k      0  0:03:35  0:00:53  0:02:42 9048k\n",
      " 25 1549M   25  394M    0     0  7392k      0  0:03:34  0:00:54  0:02:40 9044k\n",
      " 25 1549M   25  402M    0     0  7400k      0  0:03:34  0:00:55  0:02:39 8801k\n",
      " 26 1549M   26  411M    0     0  7427k      0  0:03:33  0:00:56  0:02:37 8767k\n",
      " 27 1549M   27  420M    0     0  7455k      0  0:03:32  0:00:57  0:02:35 8784k\n",
      " 27 1549M   27  426M    0     0  7440k      0  0:03:33  0:00:58  0:02:35 8285k\n",
      " 28 1549M   28  435M    0     0  7468k      0  0:03:32  0:00:59  0:02:33 8293k\n",
      " 28 1549M   28  444M    0     0  7494k      0  0:03:31  0:01:00  0:02:31 8536k\n",
      " 29 1549M   29  453M    0     0  7519k      0  0:03:31  0:01:01  0:02:30 8570k\n",
      " 29 1549M   29  461M    0     0  7542k      0  0:03:30  0:01:02  0:02:28 8548k\n",
      " 30 1549M   30  470M    0     0  7566k      0  0:03:29  0:01:03  0:02:26 9050k\n",
      " 30 1549M   30  479M    0     0  7590k      0  0:03:29  0:01:04  0:02:25 9049k\n",
      " 31 1549M   31  488M    0     0  7612k      0  0:03:28  0:01:05  0:02:23 9050k\n",
      " 32 1549M   32  497M    0     0  7634k      0  0:03:27  0:01:06  0:02:21 9051k\n",
      " 32 1549M   32  506M    0     0  7655k      0  0:03:27  0:01:07  0:02:20 9062k\n",
      " 33 1549M   33  515M    0     0  7675k      0  0:03:26  0:01:08  0:02:18 9061k\n",
      " 33 1549M   33  523M    0     0  7687k      0  0:03:26  0:01:09  0:02:17 8943k\n",
      " 34 1549M   34  531M    0     0  7702k      0  0:03:26  0:01:10  0:02:16 8888k\n",
      " 34 1549M   34  540M    0     0  7721k      0  0:03:25  0:01:11  0:02:14 8882k\n",
      " 35 1549M   35  549M    0     0  7739k      0  0:03:25  0:01:12  0:02:13 8885k\n",
      " 36 1549M   36  558M    0     0  7753k      0  0:03:24  0:01:13  0:02:11 8827k\n",
      " 36 1549M   36  562M    0     0  7712k      0  0:03:25  0:01:14  0:02:11 8067k\n",
      " 36 1549M   36  565M    0     0  7643k      0  0:03:27  0:01:15  0:02:12 6810k\n",
      " 36 1549M   36  568M    0     0  7588k      0  0:03:29  0:01:16  0:02:13 5680k\n",
      " 36 1549M   36  571M    0     0  7523k      0  0:03:30  0:01:17  0:02:13 4387k\n",
      " 37 1549M   37  579M    0     0  7538k      0  0:03:30  0:01:18  0:02:12 4355k\n",
      " 37 1549M   37  588M    0     0  7557k      0  0:03:30  0:01:19  0:02:11 5231k\n",
      " 38 1549M   38  595M    0     0  7551k      0  0:03:30  0:01:20  0:02:10 6154k\n",
      " 38 1549M   38  604M    0     0  7569k      0  0:03:29  0:01:21  0:02:08 7285k\n",
      " 39 1549M   39  612M    0     0  7587k      0  0:03:29  0:01:22  0:02:07 8583k\n",
      " 40 1549M   40  620M    0     0  7589k      0  0:03:29  0:01:23  0:02:06 8398k\n",
      " 40 1549M   40  628M    0     0  7602k      0  0:03:28  0:01:24  0:02:04 8315k\n",
      " 41 1549M   41  637M    0     0  7619k      0  0:03:28  0:01:25  0:02:03 8704k\n",
      " 41 1549M   41  646M    0     0  7635k      0  0:03:27  0:01:26  0:02:01 8710k\n",
      " 42 1549M   42  655M    0     0  7652k      0  0:03:27  0:01:27  0:02:00 8714k\n",
      " 42 1549M   42  664M    0     0  7667k      0  0:03:27  0:01:28  0:01:59 8967k\n",
      " 43 1549M   43  672M    0     0  7682k      0  0:03:26  0:01:29  0:01:57 9038k\n",
      " 43 1549M   43  681M    0     0  7696k      0  0:03:26  0:01:30  0:01:56 9027k\n",
      " 44 1549M   44  689M    0     0  7695k      0  0:03:26  0:01:31  0:01:55 8723k\n",
      " 45 1549M   45  698M    0     0  7709k      0  0:03:25  0:01:32  0:01:53 8723k\n",
      " 45 1549M   45  706M    0     0  7724k      0  0:03:25  0:01:33  0:01:52 8736k\n",
      " 46 1549M   46  715M    0     0  7737k      0  0:03:25  0:01:34  0:01:51 8739k\n",
      " 46 1549M   46  724M    0     0  7748k      0  0:03:24  0:01:35  0:01:49 8693k\n",
      " 47 1549M   47  733M    0     0  7762k      0  0:03:24  0:01:36  0:01:48 8999k\n",
      " 47 1549M   47  741M    0     0  7775k      0  0:03:24  0:01:37  0:01:47 8994k\n",
      " 48 1549M   48  750M    0     0  7788k      0  0:03:23  0:01:38  0:01:45 9002k\n",
      " 49 1549M   49  759M    0     0  7801k      0  0:03:23  0:01:39  0:01:44 9012k\n",
      " 49 1549M   49  768M    0     0  7813k      0  0:03:23  0:01:40  0:01:43 9046k\n",
      " 49 1549M   49  774M    0     0  7801k      0  0:03:23  0:01:41  0:01:42 8564k\n",
      " 50 1549M   50  782M    0     0  7804k      0  0:03:23  0:01:42  0:01:41 8368k\n",
      " 51 1549M   51  791M    0     0  7815k      0  0:03:23  0:01:43  0:01:40 8341k\n",
      " 51 1549M   51  800M    0     0  7827k      0  0:03:22  0:01:44  0:01:38 8335k\n",
      " 52 1549M   52  809M    0     0  7838k      0  0:03:22  0:01:45  0:01:37 8350k\n",
      " 52 1549M   52  817M    0     0  7842k      0  0:03:22  0:01:46  0:01:36 8670k\n",
      " 53 1549M   53  826M    0     0  7853k      0  0:03:22  0:01:47  0:01:35 8869k\n",
      " 53 1549M   53  830M    0     0  7822k      0  0:03:22  0:01:48  0:01:34 7973k\n",
      " 53 1549M   53  833M    0     0  7771k      0  0:03:24  0:01:49  0:01:35 6630k\n",
      " 53 1549M   53  835M    0     0  7725k      0  0:03:25  0:01:50  0:01:35 5364k\n",
      " 54 1549M   54  839M    0     0  7692k      0  0:03:26  0:01:51  0:01:35 4499k\n",
      " 54 1549M   54  848M    0     0  7705k      0  0:03:25  0:01:52  0:01:33 4499k\n",
      " 55 1549M   55  854M    0     0  7692k      0  0:03:26  0:01:53  0:01:33 4861k\n",
      " 55 1549M   55  863M    0     0  7704k      0  0:03:26  0:01:54  0:01:32 6201k\n",
      " 56 1549M   56  871M    0     0  7716k      0  0:03:25  0:01:55  0:01:30 7520k\n",
      " 56 1549M   56  880M    0     0  7727k      0  0:03:25  0:01:56  0:01:29 8505k\n",
      " 57 1549M   57  889M    0     0  7735k      0  0:03:25  0:01:57  0:01:28 8420k\n",
      " 57 1549M   57  898M    0     0  7746k      0  0:03:24  0:01:58  0:01:26 8972k\n",
      " 58 1549M   58  906M    0     0  7752k      0  0:03:24  0:01:59  0:01:25 8858k\n",
      " 59 1549M   59  914M    0     0  7758k      0  0:03:24  0:02:00  0:01:24 8739k\n",
      " 59 1549M   59  922M    0     0  7762k      0  0:03:24  0:02:01  0:01:23 8577k\n",
      " 60 1549M   60  930M    0     0  7769k      0  0:03:24  0:02:02  0:01:22 8560k\n",
      " 60 1549M   60  939M    0     0  7774k      0  0:03:24  0:02:03  0:01:21 8441k\n",
      " 61 1549M   61  947M    0     0  7779k      0  0:03:24  0:02:04  0:01:20 8409k\n",
      " 61 1549M   61  955M    0     0  7784k      0  0:03:23  0:02:05  0:01:18 8408k\n",
      " 62 1549M   62  964M    0     0  7791k      0  0:03:23  0:02:06  0:01:17 8495k\n",
      " 62 1549M   62  970M    0     0  7782k      0  0:03:23  0:02:07  0:01:16 8107k\n",
      " 63 1549M   63  977M    0     0  7779k      0  0:03:24  0:02:08  0:01:16 7908k\n",
      " 63 1549M   63  985M    0     0  7777k      0  0:03:24  0:02:09  0:01:15 7744k\n",
      " 64 1549M   64  993M    0     0  7781k      0  0:03:23  0:02:10  0:01:13 7712k\n",
      " 64 1549M   64 1000M    0     0  7780k      0  0:03:24  0:02:11  0:01:13 7489k\n",
      " 64 1549M   64 1006M    0     0  7765k      0  0:03:24  0:02:12  0:01:12 7333k\n",
      " 65 1549M   65 1013M    0     0  7762k      0  0:03:24  0:02:13  0:01:11 7307k\n",
      " 65 1549M   65 1022M    0     0  7770k      0  0:03:24  0:02:14  0:01:10 7576k\n",
      " 66 1549M   66 1029M    0     0  7769k      0  0:03:24  0:02:15  0:01:09 7450k\n",
      " 66 1549M   66 1034M    0     0  7748k      0  0:03:24  0:02:16  0:01:08 6921k\n",
      " 67 1549M   67 1043M    0     0  7757k      0  0:03:24  0:02:17  0:01:07 7556k\n",
      " 67 1549M   67 1051M    0     0  7759k      0  0:03:24  0:02:18  0:01:06 7671k\n",
      " 68 1549M   68 1059M    0     0  7768k      0  0:03:24  0:02:19  0:01:05 7711k\n",
      " 68 1549M   68 1068M    0     0  7775k      0  0:03:24  0:02:20  0:01:04 7938k\n",
      " 69 1549M   69 1077M    0     0  7783k      0  0:03:23  0:02:21  0:01:02 8729k\n",
      " 69 1549M   69 1079M    0     0  7741k      0  0:03:25  0:02:22  0:01:03 7289k\n",
      " 69 1549M   69 1081M    0     0  7697k      0  0:03:26  0:02:23  0:01:03 6049k\n",
      " 69 1549M   69 1083M    0     0  7668k      0  0:03:26  0:02:24  0:01:02 4887k\n",
      " 70 1549M   70 1087M    0     0  7643k      0  0:03:27  0:02:25  0:01:02 3923k\n",
      " 70 1549M   70 1094M    0     0  7637k      0  0:03:27  0:02:26  0:01:01 3502k\n",
      " 71 1549M   71 1101M    0     0  7633k      0  0:03:27  0:02:27  0:01:00 4524k\n",
      " 71 1549M   71 1109M    0     0  7641k      0  0:03:27  0:02:28  0:00:59 5974k\n",
      " 72 1549M   72 1118M    0     0  7651k      0  0:03:27  0:02:29  0:00:58 7149k\n",
      " 72 1549M   72 1127M    0     0  7660k      0  0:03:27  0:02:30  0:00:57 8152k\n",
      " 73 1549M   73 1136M    0     0  7669k      0  0:03:26  0:02:31  0:00:55 8615k\n",
      " 73 1549M   73 1145M    0     0  7678k      0  0:03:26  0:02:32  0:00:54 9024k\n",
      " 74 1549M   74 1153M    0     0  7687k      0  0:03:26  0:02:33  0:00:53 9044k\n",
      " 75 1549M   75 1162M    0     0  7696k      0  0:03:26  0:02:34  0:00:52 9044k\n",
      " 75 1549M   75 1171M    0     0  7704k      0  0:03:25  0:02:35  0:00:50 9043k\n",
      " 76 1549M   76 1180M    0     0  7713k      0  0:03:25  0:02:36  0:00:49 9045k\n",
      " 76 1549M   76 1187M    0     0  7710k      0  0:03:25  0:02:37  0:00:48 8669k\n",
      " 77 1549M   77 1196M    0     0  7718k      0  0:03:25  0:02:38  0:00:47 8684k\n",
      " 77 1549M   77 1205M    0     0  7726k      0  0:03:25  0:02:39  0:00:46 8677k\n",
      " 78 1549M   78 1213M    0     0  7735k      0  0:03:25  0:02:40  0:00:45 8681k\n",
      " 78 1549M   78 1222M    0     0  7743k      0  0:03:24  0:02:41  0:00:43 8678k\n",
      " 79 1549M   79 1231M    0     0  7750k      0  0:03:24  0:02:42  0:00:42 9020k\n",
      " 79 1549M   79 1239M    0     0  7751k      0  0:03:24  0:02:43  0:00:41 8810k\n",
      " 80 1549M   80 1247M    0     0  7758k      0  0:03:24  0:02:44  0:00:40 8780k\n",
      " 81 1549M   81 1256M    0     0  7766k      0  0:03:24  0:02:45  0:00:39 8778k\n",
      " 81 1549M   81 1264M    0     0  7768k      0  0:03:24  0:02:46  0:00:38 8590k\n",
      " 82 1549M   82 1272M    0     0  7763k      0  0:03:24  0:02:47  0:00:37 8187k\n",
      " 82 1549M   82 1279M    0     0  7766k      0  0:03:24  0:02:48  0:00:36 8258k\n",
      " 83 1549M   83 1288M    0     0  7774k      0  0:03:24  0:02:49  0:00:35 8295k\n",
      " 83 1549M   83 1297M    0     0  7780k      0  0:03:23  0:02:50  0:00:33 8246k\n",
      " 84 1549M   84 1305M    0     0  7785k      0  0:03:23  0:02:51  0:00:32 8339k\n",
      " 84 1549M   84 1313M    0     0  7786k      0  0:03:23  0:02:52  0:00:31 8578k\n",
      " 85 1549M   85 1322M    0     0  7793k      0  0:03:23  0:02:53  0:00:30 8677k\n",
      " 85 1549M   85 1330M    0     0  7800k      0  0:03:23  0:02:54  0:00:29 8678k\n",
      " 86 1549M   86 1339M    0     0  7806k      0  0:03:23  0:02:55  0:00:28 8692k\n",
      " 86 1549M   86 1342M    0     0  7782k      0  0:03:23  0:02:56  0:00:27 7671k\n",
      " 86 1549M   86 1345M    0     0  7749k      0  0:03:24  0:02:57  0:00:27 6485k\n",
      " 86 1549M   86 1346M    0     0  7714k      0  0:03:25  0:02:58  0:00:27 4985k\n",
      " 86 1549M   86 1347M    0     0  7680k      0  0:03:26  0:02:59  0:00:27 3491k\n",
      " 87 1549M   87 1356M    0     0  7687k      0  0:03:26  0:03:00  0:00:26 3495k\n",
      " 88 1549M   88 1365M    0     0  7694k      0  0:03:26  0:03:01  0:00:25 4591k\n",
      " 88 1549M   88 1372M    0     0  7690k      0  0:03:26  0:03:02  0:00:24 5560k\n",
      " 89 1549M   89 1379M    0     0  7691k      0  0:03:26  0:03:03  0:00:23 6874k\n",
      " 89 1549M   89 1388M    0     0  7699k      0  0:03:26  0:03:04  0:00:22 8368k\n",
      " 90 1549M   90 1397M    0     0  7706k      0  0:03:25  0:03:05  0:00:20 8395k\n",
      " 90 1549M   90 1406M    0     0  7713k      0  0:03:25  0:03:06  0:00:19 8416k\n",
      " 91 1549M   91 1415M    0     0  7720k      0  0:03:25  0:03:07  0:00:18 8833k\n",
      " 91 1549M   91 1424M    0     0  7727k      0  0:03:25  0:03:08  0:00:17 9056k\n",
      " 92 1549M   92 1432M    0     0  7734k      0  0:03:25  0:03:09  0:00:16 9055k\n",
      " 93 1549M   93 1441M    0     0  7741k      0  0:03:25  0:03:10  0:00:15 9054k\n",
      " 93 1549M   93 1450M    0     0  7748k      0  0:03:24  0:03:11  0:00:13 9053k\n",
      " 94 1549M   94 1459M    0     0  7755k      0  0:03:24  0:03:12  0:00:12 9054k\n",
      " 94 1549M   94 1468M    0     0  7762k      0  0:03:24  0:03:13  0:00:11 9059k\n",
      " 95 1549M   95 1477M    0     0  7768k      0  0:03:24  0:03:14  0:00:10 9059k\n",
      " 95 1549M   95 1484M    0     0  7764k      0  0:03:24  0:03:15  0:00:09 8643k\n",
      " 96 1549M   96 1490M    0     0  7761k      0  0:03:24  0:03:16  0:00:08 8238k\n",
      " 96 1549M   96 1499M    0     0  7767k      0  0:03:24  0:03:17  0:00:07 8241k\n",
      " 97 1549M   97 1504M    0     0  7755k      0  0:03:24  0:03:18  0:00:06 7475k\n",
      " 97 1549M   97 1513M    0     0  7761k      0  0:03:24  0:03:19  0:00:05 7487k\n",
      " 98 1549M   98 1522M    0     0  7768k      0  0:03:24  0:03:20  0:00:04 7910k\n",
      " 98 1549M   98 1531M    0     0  7774k      0  0:03:24  0:03:21  0:00:03 8312k\n"
     ]
    },
    {
     "name": "stderr",
     "output_type": "stream",
     "text": [
      " 99 1549M   99 1540M    0     0  7780k      0  0:03:23  0:03:22  0:00:01 8289k\n",
      " 99 1549M   99 1549M    0     0  7787k      0  0:03:23  0:03:23 --:--:-- 9057k\n",
      "100 1549M  100 1549M    0     0  7783k      0  0:03:23  0:03:23 --:--:-- 8829k\n",
      "Loading model from file models/deepspeech-0.9.3-models.tflite\n",
      "TensorFlow: v2.3.0-6-g23ad988fcd\n",
      "DeepSpeech: v0.9.3-0-gf2e9c858\n",
      "Loaded model in 0.0792s.\n",
      "Running inference.\n",
      "Inference took 109.990s for 67.892s audio file.\n"
     ]
    }
   ],
   "source": [
    "!deepspeech --model {DEEPSPEECH_MODEL_FILE} --audio {INPUT_AUDIO_FILE} > {OUTPUT_TRANSCRIPT_FILE}"
   ]
  },
  {
   "cell_type": "markdown",
   "id": "b1ffcfdd",
   "metadata": {},
   "source": [
    "#### Load generated transcript into memory"
   ]
  },
  {
   "cell_type": "code",
   "execution_count": 6,
   "id": "47070559",
   "metadata": {},
   "outputs": [],
   "source": [
    "transcribed_text = str()\n",
    "with open(OUTPUT_TRANSCRIPT_FILE) as file:\n",
    "    transcribed_text = file.read().strip()"
   ]
  },
  {
   "cell_type": "code",
   "execution_count": 7,
   "id": "a3baa315",
   "metadata": {},
   "outputs": [
    {
     "data": {
      "text/plain": [
       "\"there are certain things that a necessary to ensure that the future is good and some of those things are in the long term having long term sustainable transportand sustainable energy generation and to be a space exploring civilization and for humanity to be out their among the stars and be a multi planetry species i think the being a multi planetory species and being out there among the stars is important for the long terme survival of humanity and that's one reason kind of like life insurance for life collectively life as we know it but then the part that i find personally most motivating is that it creates a sense of adventure and it makes people excited about the future if you con sider two futures one way we are forever confine to earth until eventually something terrible happens ot another future where we are out there on many planets may be even going beyond the solar system i think that second version is incredibly exciting and inspiring at there need to be reasons to get up in the morning you know life can't just be about solving problems otherwise what's the point be'e got to be things that people find in spiring and make life worth living\""
      ]
     },
     "execution_count": 7,
     "metadata": {},
     "output_type": "execute_result"
    }
   ],
   "source": [
    "transcribed_text"
   ]
  },
  {
   "cell_type": "markdown",
   "id": "a897cc49",
   "metadata": {},
   "source": [
    "#### Summarize transcribed speech"
   ]
  },
  {
   "cell_type": "markdown",
   "id": "7c7c4b5c",
   "metadata": {},
   "source": [
    "##### Import libraries"
   ]
  },
  {
   "cell_type": "code",
   "execution_count": 8,
   "id": "625322f7",
   "metadata": {},
   "outputs": [],
   "source": [
    "from transformers import AutoTokenizer, AutoModelForSeq2SeqLM"
   ]
  },
  {
   "cell_type": "markdown",
   "id": "eb005b04",
   "metadata": {},
   "source": [
    "##### Load models"
   ]
  },
  {
   "cell_type": "code",
   "execution_count": 9,
   "id": "4d5df9e6",
   "metadata": {},
   "outputs": [],
   "source": [
    "tokenizer = AutoTokenizer.from_pretrained(PYTORCH_MODEL_DIR)\n",
    "model = AutoModelForSeq2SeqLM.from_pretrained(PYTORCH_MODEL_DIR)"
   ]
  },
  {
   "cell_type": "markdown",
   "id": "6ce7e6b7",
   "metadata": {},
   "source": [
    "##### Summarize"
   ]
  },
  {
   "cell_type": "code",
   "execution_count": 10,
   "id": "4daba73e",
   "metadata": {},
   "outputs": [
    {
     "name": "stdout",
     "output_type": "stream",
     "text": [
      "Being a multi planetry species is important for the long terme survival of humanity. It creates a sense of adventure and it makes people excited about the future. There need to be reasons to get up in the morning you know life can't just be about solving problems otherwise what's the point.\n"
     ]
    }
   ],
   "source": [
    "input_ids = tokenizer(f\"summarize: {transcribed_text}\", return_tensors='pt').input_ids\n",
    "outputs = model.generate(input_ids)\n",
    "with open(OUTPUT_SUMMARISED_FILE, 'w') as file:\n",
    "    file.write(tokenizer.decode(outputs[0], skip_special_tokens=True))\n",
    "print(tokenizer.decode(outputs[0], skip_special_tokens=True))"
   ]
  },
  {
   "cell_type": "code",
   "execution_count": null,
   "id": "d7e57b54",
   "metadata": {},
   "outputs": [],
   "source": []
  }
 ],
 "metadata": {
  "kernelspec": {
   "display_name": "Python 3 (ipykernel)",
   "language": "python",
   "name": "python3"
  },
  "language_info": {
   "codemirror_mode": {
    "name": "ipython",
    "version": 3
   },
   "file_extension": ".py",
   "mimetype": "text/x-python",
   "name": "python",
   "nbconvert_exporter": "python",
   "pygments_lexer": "ipython3",
   "version": "3.9.6"
  }
 },
 "nbformat": 4,
 "nbformat_minor": 5
}
